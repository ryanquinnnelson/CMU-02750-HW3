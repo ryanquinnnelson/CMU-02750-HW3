{
 "cells": [
  {
   "cell_type": "code",
   "execution_count": null,
   "metadata": {},
   "outputs": [],
   "source": [
    "import numpy as np\n",
    "import random\n",
    "import matplotlib.pyplot as plt\n",
    "\n",
    "from sklearn.model_selection import train_test_split\n",
    "from sklearn import preprocessing\n",
    "from sklearn.utils import shuffle\n",
    "\n",
    "from sklearn.gaussian_process import GaussianProcessRegressor\n",
    "from sklearn.gaussian_process.kernels import Matern, RBF,WhiteKernel\n",
    "from sklearn.ensemble import RandomForestRegressor\n",
    "from sklearn.metrics import r2_score\n",
    "\n",
    "from modAL.models import BayesianOptimizer, ActiveLearner, CommitteeRegressor\n",
    "from modAL.acquisition import max_EI\n",
    "from modAL.disagreement import max_std_sampling\n",
    "\n",
    "import seqlogo\n",
    "\n",
    "import copy\n",
    "\n",
    "### Set random seed\n",
    "seed = 5\n",
    "random.seed(seed)\n",
    "np.random.seed(seed)"
   ]
  },
  {
   "cell_type": "code",
   "execution_count": null,
   "metadata": {},
   "outputs": [],
   "source": [
    "data = np.loadtxt('hw3_data.csv', dtype = str, delimiter = ',')[1:]\n",
    "### TO DO\n"
   ]
  },
  {
   "cell_type": "code",
   "execution_count": null,
   "metadata": {},
   "outputs": [],
   "source": [
    "X_train, X_test, y_train, y_test = train_test_split(X, y, test_size=0.33)"
   ]
  },
  {
   "cell_type": "code",
   "execution_count": null,
   "metadata": {},
   "outputs": [],
   "source": [
    "### TO DO\n",
    "### please edit this block, and feel free to remove any code we provided for you.\n",
    "\n",
    "regressor = ActiveLearner(\n",
    "    X_training=X_train[0].reshape(1, -1), y_training=y_train[0].reshape(1, -1)    \n",
    ")\n",
    "n_queries = 200\n",
    "for idx in range(n_queries):\n",
    "    query_idx = np.random.randint(len(X_train))\n",
    "    X_train, y_train = (np.delete(X_train, query_idx, axis=0), np.delete(y_train, query_idx))\n",
    "    regressor.teach(X_train[query_idx].reshape(1,-1), y_train[query_idx].reshape(1,-1))\n",
    "\n",
    "y_pred_final = regressor.predict(X_test, return_std=False)\n",
    "y_train_pred=regressor.predict(X_train, return_std=False)\n",
    "r2=r2_score(y_test,y_pred_final)\n",
    "r2_train=r2_score(y_train,y_train_pred)\n",
    "print(y_test,y_pred_final,y_train_pred)\n",
    "print(\"R2\",r2,r2_train)"
   ]
  }
 ],
 "metadata": {
  "kernelspec": {
   "display_name": "Python 3",
   "language": "python",
   "name": "python3"
  },
  "language_info": {
   "codemirror_mode": {
    "name": "ipython",
    "version": 3
   },
   "file_extension": ".py",
   "mimetype": "text/x-python",
   "name": "python",
   "nbconvert_exporter": "python",
   "pygments_lexer": "ipython3",
   "version": "3.8.3"
  }
 },
 "nbformat": 4,
 "nbformat_minor": 2
}
