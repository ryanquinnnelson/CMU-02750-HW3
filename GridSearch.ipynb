{
 "cells": [
  {
   "cell_type": "code",
   "execution_count": 45,
   "id": "expected-father",
   "metadata": {},
   "outputs": [],
   "source": [
    "import numpy as np\n",
    "import pandas as pd\n",
    "from sklearn.linear_model import LinearRegression\n",
    "from sklearn.preprocessing import StandardScaler\n",
    "from sklearn.gaussian_process.kernels import Matern, RBF"
   ]
  },
  {
   "cell_type": "code",
   "execution_count": 46,
   "id": "lucky-broadway",
   "metadata": {
    "scrolled": true
   },
   "outputs": [
    {
     "data": {
      "text/html": [
       "<div>\n",
       "<style scoped>\n",
       "    .dataframe tbody tr th:only-of-type {\n",
       "        vertical-align: middle;\n",
       "    }\n",
       "\n",
       "    .dataframe tbody tr th {\n",
       "        vertical-align: top;\n",
       "    }\n",
       "\n",
       "    .dataframe thead th {\n",
       "        text-align: right;\n",
       "    }\n",
       "</style>\n",
       "<table border=\"1\" class=\"dataframe\">\n",
       "  <thead>\n",
       "    <tr style=\"text-align: right;\">\n",
       "      <th></th>\n",
       "      <th>category</th>\n",
       "      <th>learner</th>\n",
       "      <th>query_strategy</th>\n",
       "      <th>kernel</th>\n",
       "      <th>length_scale</th>\n",
       "      <th>nu</th>\n",
       "      <th>n_learners</th>\n",
       "      <th>n_initial</th>\n",
       "      <th>n_queries</th>\n",
       "      <th>r2</th>\n",
       "    </tr>\n",
       "  </thead>\n",
       "  <tbody>\n",
       "    <tr>\n",
       "      <th>0</th>\n",
       "      <td>Committee</td>\n",
       "      <td>Gaussian Process</td>\n",
       "      <td>max_std_sampling</td>\n",
       "      <td>Matern(length_scale=0.1, nu=1.5)</td>\n",
       "      <td>0.100000</td>\n",
       "      <td>1.5</td>\n",
       "      <td>2</td>\n",
       "      <td>10</td>\n",
       "      <td>100</td>\n",
       "      <td>-14.425781</td>\n",
       "    </tr>\n",
       "    <tr>\n",
       "      <th>1</th>\n",
       "      <td>Committee</td>\n",
       "      <td>Gaussian Process</td>\n",
       "      <td>max_std_sampling</td>\n",
       "      <td>Matern(length_scale=0.644, nu=1.5)</td>\n",
       "      <td>0.644444</td>\n",
       "      <td>1.5</td>\n",
       "      <td>2</td>\n",
       "      <td>10</td>\n",
       "      <td>100</td>\n",
       "      <td>0.325172</td>\n",
       "    </tr>\n",
       "    <tr>\n",
       "      <th>2</th>\n",
       "      <td>Committee</td>\n",
       "      <td>Gaussian Process</td>\n",
       "      <td>max_std_sampling</td>\n",
       "      <td>Matern(length_scale=1.19, nu=1.5)</td>\n",
       "      <td>1.188889</td>\n",
       "      <td>1.5</td>\n",
       "      <td>2</td>\n",
       "      <td>10</td>\n",
       "      <td>100</td>\n",
       "      <td>0.354015</td>\n",
       "    </tr>\n",
       "    <tr>\n",
       "      <th>3</th>\n",
       "      <td>Committee</td>\n",
       "      <td>Gaussian Process</td>\n",
       "      <td>max_std_sampling</td>\n",
       "      <td>Matern(length_scale=1.73, nu=1.5)</td>\n",
       "      <td>1.733333</td>\n",
       "      <td>1.5</td>\n",
       "      <td>2</td>\n",
       "      <td>10</td>\n",
       "      <td>100</td>\n",
       "      <td>0.289640</td>\n",
       "    </tr>\n",
       "    <tr>\n",
       "      <th>4</th>\n",
       "      <td>Committee</td>\n",
       "      <td>Gaussian Process</td>\n",
       "      <td>max_std_sampling</td>\n",
       "      <td>Matern(length_scale=2.28, nu=1.5)</td>\n",
       "      <td>2.277778</td>\n",
       "      <td>1.5</td>\n",
       "      <td>2</td>\n",
       "      <td>10</td>\n",
       "      <td>100</td>\n",
       "      <td>0.294963</td>\n",
       "    </tr>\n",
       "  </tbody>\n",
       "</table>\n",
       "</div>"
      ],
      "text/plain": [
       "    category           learner    query_strategy  \\\n",
       "0  Committee  Gaussian Process  max_std_sampling   \n",
       "1  Committee  Gaussian Process  max_std_sampling   \n",
       "2  Committee  Gaussian Process  max_std_sampling   \n",
       "3  Committee  Gaussian Process  max_std_sampling   \n",
       "4  Committee  Gaussian Process  max_std_sampling   \n",
       "\n",
       "                               kernel  length_scale   nu   n_learners  \\\n",
       "0    Matern(length_scale=0.1, nu=1.5)      0.100000  1.5            2   \n",
       "1  Matern(length_scale=0.644, nu=1.5)      0.644444  1.5            2   \n",
       "2   Matern(length_scale=1.19, nu=1.5)      1.188889  1.5            2   \n",
       "3   Matern(length_scale=1.73, nu=1.5)      1.733333  1.5            2   \n",
       "4   Matern(length_scale=2.28, nu=1.5)      2.277778  1.5            2   \n",
       "\n",
       "    n_initial  n_queries         r2  \n",
       "0          10        100 -14.425781  \n",
       "1          10        100   0.325172  \n",
       "2          10        100   0.354015  \n",
       "3          10        100   0.289640  \n",
       "4          10        100   0.294963  "
      ]
     },
     "execution_count": 46,
     "metadata": {},
     "output_type": "execute_result"
    }
   ],
   "source": [
    "df = pd.read_csv('data/gridsearch.matern.csv', sep=',')\n",
    "df.head()"
   ]
  },
  {
   "cell_type": "code",
   "execution_count": 47,
   "id": "applicable-profit",
   "metadata": {},
   "outputs": [],
   "source": [
    "df = df[df['r2']>0]"
   ]
  },
  {
   "cell_type": "code",
   "execution_count": 48,
   "id": "heated-blues",
   "metadata": {},
   "outputs": [],
   "source": [
    "\n",
    "df = df.drop(['category', 'learner', 'query_strategy','kernel'],axis=1)\n",
    "y = df['r2']\n",
    "X = df.drop(['r2'],axis=1)\n",
    "\n",
    "scaler = StandardScaler()\n",
    "X2 = scaler.fit_transform(X)"
   ]
  },
  {
   "cell_type": "code",
   "execution_count": 49,
   "id": "pregnant-packing",
   "metadata": {},
   "outputs": [],
   "source": [
    "reg = LinearRegression().fit(X2, y)\n",
    "\n",
    "\n"
   ]
  },
  {
   "cell_type": "code",
   "execution_count": 50,
   "id": "satisfactory-turtle",
   "metadata": {},
   "outputs": [
    {
     "data": {
      "text/plain": [
       "array([-0.0023,  0.    ,  0.0394,  0.0446,  0.    ])"
      ]
     },
     "execution_count": 50,
     "metadata": {},
     "output_type": "execute_result"
    }
   ],
   "source": [
    "np.round(reg.coef_,4)\n",
    "\n"
   ]
  }
 ],
 "metadata": {
  "kernelspec": {
   "display_name": "Python 3",
   "language": "python",
   "name": "python3"
  },
  "language_info": {
   "codemirror_mode": {
    "name": "ipython",
    "version": 3
   },
   "file_extension": ".py",
   "mimetype": "text/x-python",
   "name": "python",
   "nbconvert_exporter": "python",
   "pygments_lexer": "ipython3",
   "version": "3.6.12"
  }
 },
 "nbformat": 4,
 "nbformat_minor": 5
}
