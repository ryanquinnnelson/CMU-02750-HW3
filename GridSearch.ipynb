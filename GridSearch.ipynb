{
 "cells": [
  {
   "cell_type": "code",
   "execution_count": 5,
   "id": "significant-comment",
   "metadata": {},
   "outputs": [],
   "source": [
    "import numpy as np\n",
    "import pandas as pd\n",
    "from sklearn.linear_model import LinearRegression\n",
    "from sklearn.preprocessing import StandardScaler\n",
    "from sklearn.gaussian_process.kernels import Matern, RBF\n",
    "from sklearn.kernel_ridge import KernelRidge\n",
    "from sklearn.model_selection import GridSearchCV\n",
    "from sklearn.gaussian_process import GaussianProcessRegressor\n",
    "from sklearn.gaussian_process.kernels import WhiteKernel, ExpSineSquared\n",
    "from sklearn.preprocessing import OneHotEncoder\n",
    "from scipy import sparse"
   ]
  },
  {
   "cell_type": "code",
   "execution_count": 46,
   "id": "rural-mount",
   "metadata": {
    "scrolled": true
   },
   "outputs": [
    {
     "data": {
      "text/html": [
       "<div>\n",
       "<style scoped>\n",
       "    .dataframe tbody tr th:only-of-type {\n",
       "        vertical-align: middle;\n",
       "    }\n",
       "\n",
       "    .dataframe tbody tr th {\n",
       "        vertical-align: top;\n",
       "    }\n",
       "\n",
       "    .dataframe thead th {\n",
       "        text-align: right;\n",
       "    }\n",
       "</style>\n",
       "<table border=\"1\" class=\"dataframe\">\n",
       "  <thead>\n",
       "    <tr style=\"text-align: right;\">\n",
       "      <th></th>\n",
       "      <th>category</th>\n",
       "      <th>learner</th>\n",
       "      <th>query_strategy</th>\n",
       "      <th>kernel</th>\n",
       "      <th>length_scale</th>\n",
       "      <th>nu</th>\n",
       "      <th>n_learners</th>\n",
       "      <th>n_initial</th>\n",
       "      <th>n_queries</th>\n",
       "      <th>r2</th>\n",
       "    </tr>\n",
       "  </thead>\n",
       "  <tbody>\n",
       "    <tr>\n",
       "      <th>0</th>\n",
       "      <td>Committee</td>\n",
       "      <td>Gaussian Process</td>\n",
       "      <td>max_std_sampling</td>\n",
       "      <td>Matern(length_scale=0.1, nu=1.5)</td>\n",
       "      <td>0.100000</td>\n",
       "      <td>1.5</td>\n",
       "      <td>2</td>\n",
       "      <td>10</td>\n",
       "      <td>100</td>\n",
       "      <td>-14.425781</td>\n",
       "    </tr>\n",
       "    <tr>\n",
       "      <th>1</th>\n",
       "      <td>Committee</td>\n",
       "      <td>Gaussian Process</td>\n",
       "      <td>max_std_sampling</td>\n",
       "      <td>Matern(length_scale=0.644, nu=1.5)</td>\n",
       "      <td>0.644444</td>\n",
       "      <td>1.5</td>\n",
       "      <td>2</td>\n",
       "      <td>10</td>\n",
       "      <td>100</td>\n",
       "      <td>0.325172</td>\n",
       "    </tr>\n",
       "    <tr>\n",
       "      <th>2</th>\n",
       "      <td>Committee</td>\n",
       "      <td>Gaussian Process</td>\n",
       "      <td>max_std_sampling</td>\n",
       "      <td>Matern(length_scale=1.19, nu=1.5)</td>\n",
       "      <td>1.188889</td>\n",
       "      <td>1.5</td>\n",
       "      <td>2</td>\n",
       "      <td>10</td>\n",
       "      <td>100</td>\n",
       "      <td>0.354015</td>\n",
       "    </tr>\n",
       "    <tr>\n",
       "      <th>3</th>\n",
       "      <td>Committee</td>\n",
       "      <td>Gaussian Process</td>\n",
       "      <td>max_std_sampling</td>\n",
       "      <td>Matern(length_scale=1.73, nu=1.5)</td>\n",
       "      <td>1.733333</td>\n",
       "      <td>1.5</td>\n",
       "      <td>2</td>\n",
       "      <td>10</td>\n",
       "      <td>100</td>\n",
       "      <td>0.289640</td>\n",
       "    </tr>\n",
       "    <tr>\n",
       "      <th>4</th>\n",
       "      <td>Committee</td>\n",
       "      <td>Gaussian Process</td>\n",
       "      <td>max_std_sampling</td>\n",
       "      <td>Matern(length_scale=2.28, nu=1.5)</td>\n",
       "      <td>2.277778</td>\n",
       "      <td>1.5</td>\n",
       "      <td>2</td>\n",
       "      <td>10</td>\n",
       "      <td>100</td>\n",
       "      <td>0.294963</td>\n",
       "    </tr>\n",
       "  </tbody>\n",
       "</table>\n",
       "</div>"
      ],
      "text/plain": [
       "    category           learner    query_strategy  \\\n",
       "0  Committee  Gaussian Process  max_std_sampling   \n",
       "1  Committee  Gaussian Process  max_std_sampling   \n",
       "2  Committee  Gaussian Process  max_std_sampling   \n",
       "3  Committee  Gaussian Process  max_std_sampling   \n",
       "4  Committee  Gaussian Process  max_std_sampling   \n",
       "\n",
       "                               kernel  length_scale   nu   n_learners  \\\n",
       "0    Matern(length_scale=0.1, nu=1.5)      0.100000  1.5            2   \n",
       "1  Matern(length_scale=0.644, nu=1.5)      0.644444  1.5            2   \n",
       "2   Matern(length_scale=1.19, nu=1.5)      1.188889  1.5            2   \n",
       "3   Matern(length_scale=1.73, nu=1.5)      1.733333  1.5            2   \n",
       "4   Matern(length_scale=2.28, nu=1.5)      2.277778  1.5            2   \n",
       "\n",
       "    n_initial  n_queries         r2  \n",
       "0          10        100 -14.425781  \n",
       "1          10        100   0.325172  \n",
       "2          10        100   0.354015  \n",
       "3          10        100   0.289640  \n",
       "4          10        100   0.294963  "
      ]
     },
     "execution_count": 46,
     "metadata": {},
     "output_type": "execute_result"
    }
   ],
   "source": [
    "df = pd.read_csv('data/gridsearch.matern.csv', sep=',')\n",
    "df.head()"
   ]
  },
  {
   "cell_type": "code",
   "execution_count": 47,
   "id": "prompt-hayes",
   "metadata": {},
   "outputs": [],
   "source": [
    "df = df[df['r2']>0]"
   ]
  },
  {
   "cell_type": "code",
   "execution_count": 48,
   "id": "cheap-basics",
   "metadata": {},
   "outputs": [],
   "source": [
    "\n",
    "df = df.drop(['category', 'learner', 'query_strategy','kernel'],axis=1)\n",
    "y = df['r2']\n",
    "X = df.drop(['r2'],axis=1)\n",
    "\n",
    "scaler = StandardScaler()\n",
    "X2 = scaler.fit_transform(X)"
   ]
  },
  {
   "cell_type": "code",
   "execution_count": 49,
   "id": "female-dressing",
   "metadata": {},
   "outputs": [],
   "source": [
    "reg = LinearRegression().fit(X2, y)\n",
    "\n",
    "\n"
   ]
  },
  {
   "cell_type": "code",
   "execution_count": 50,
   "id": "reverse-elizabeth",
   "metadata": {},
   "outputs": [
    {
     "data": {
      "text/plain": [
       "array([-0.0023,  0.    ,  0.0394,  0.0446,  0.    ])"
      ]
     },
     "execution_count": 50,
     "metadata": {},
     "output_type": "execute_result"
    }
   ],
   "source": [
    "np.round(reg.coef_,4)\n",
    "\n"
   ]
  },
  {
   "cell_type": "code",
   "execution_count": 6,
   "id": "green-berry",
   "metadata": {},
   "outputs": [
    {
     "name": "stdout",
     "output_type": "stream",
     "text": [
      "(9051, 4)\n",
      "(9051, 9)\n",
      "(9051,)\n",
      "<class 'scipy.sparse.csr.csr_matrix'>\n",
      "(9051, 180)\n",
      "<class 'numpy.ndarray'>\n",
      "(9051, 180)\n",
      "(9051,)\n"
     ]
    }
   ],
   "source": [
    "data = pd.read_csv('data/hw3_data.csv', delimiter=',',header=0)\n",
    "print(data.shape)\n",
    "data.head(5)\n",
    "\n",
    "# create separate columns for each amino acid\n",
    "for i in range(9):\n",
    "    colname='seq'+str(i)\n",
    "    data[colname] = [x[i] for x in data['seq']]\n",
    "    \n",
    "X_df = data.drop(['pIC50','id','allele', 'seq'],axis=1)\n",
    "y = data['pIC50']\n",
    "print(X_df.shape)\n",
    "print(y.shape)\n",
    "\n",
    "enc = OneHotEncoder(handle_unknown='ignore')\n",
    "X_enc = enc.fit_transform(X_df)\n",
    "print(type(X_enc))\n",
    "print(X_enc.shape)\n",
    "\n",
    "# convert to numpy array\n",
    "X_pool=sparse.csr_matrix.toarray(X_enc)\n",
    "print(type(X_pool))\n",
    "print(X_pool.shape)\n",
    "y_pool = y.to_numpy()\n",
    "print(y_pool.shape)"
   ]
  },
  {
   "cell_type": "code",
   "execution_count": null,
   "id": "sensitive-front",
   "metadata": {},
   "outputs": [],
   "source": []
  },
  {
   "cell_type": "code",
   "execution_count": null,
   "id": "grateful-beach",
   "metadata": {},
   "outputs": [
    {
     "name": "stderr",
     "output_type": "stream",
     "text": [
      "/Users/ryanqnelson/opt/anaconda3/envs/cmu/lib/python3.6/site-packages/sklearn/linear_model/_ridge.py:190: UserWarning: Singular matrix in solving dual problem. Using least-squares solution instead.\n",
      "  warnings.warn(\"Singular matrix in solving dual problem. Using \"\n",
      "/Users/ryanqnelson/opt/anaconda3/envs/cmu/lib/python3.6/site-packages/sklearn/linear_model/_ridge.py:190: UserWarning: Singular matrix in solving dual problem. Using least-squares solution instead.\n",
      "  warnings.warn(\"Singular matrix in solving dual problem. Using \"\n"
     ]
    }
   ],
   "source": [
    "# Fit KernelRidge with parameter selection based on 5-fold cross validation\n",
    "param_grid = {\"alpha\": [1e0, 1e-1, 1e-2, 1e-3],\n",
    "              \"kernel\": [ExpSineSquared(l, p)\n",
    "                         for l in np.logspace(-2, 2, 10)\n",
    "                         for p in np.logspace(0, 2, 10)]}\n",
    "kr = GridSearchCV(KernelRidge(), param_grid=param_grid)\n",
    "kr.fit(X_pool, y_pool)"
   ]
  }
 ],
 "metadata": {
  "kernelspec": {
   "display_name": "Python 3",
   "language": "python",
   "name": "python3"
  },
  "language_info": {
   "codemirror_mode": {
    "name": "ipython",
    "version": 3
   },
   "file_extension": ".py",
   "mimetype": "text/x-python",
   "name": "python",
   "nbconvert_exporter": "python",
   "pygments_lexer": "ipython3",
   "version": "3.6.12"
  }
 },
 "nbformat": 4,
 "nbformat_minor": 5
}
