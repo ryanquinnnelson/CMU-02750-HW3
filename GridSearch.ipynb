{
 "cells": [
  {
   "cell_type": "markdown",
   "metadata": {},
   "source": [
    "### Imports and Setup"
   ]
  },
  {
   "cell_type": "code",
   "execution_count": 108,
   "metadata": {},
   "outputs": [],
   "source": [
    "import numpy as np\n",
    "import random\n",
    "import pandas as pd\n",
    "import csv\n",
    "import datetime\n",
    "import matplotlib.pyplot as plt\n",
    "import copy\n",
    "\n",
    "# numpy\n",
    "from numpy.linalg import LinAlgError\n",
    "\n",
    "# sklearn\n",
    "from sklearn.gaussian_process import GaussianProcessRegressor\n",
    "from sklearn.gaussian_process.kernels import Matern, RBF, WhiteKernel,ExpSineSquared,DotProduct,RationalQuadratic\n",
    "from sklearn.ensemble import RandomForestRegressor\n",
    "from sklearn.metrics import r2_score\n",
    "from sklearn.linear_model import Ridge\n",
    "from sklearn.preprocessing import OneHotEncoder\n",
    "from sklearn.model_selection import train_test_split\n",
    "\n",
    "# modAL\n",
    "from modAL.disagreement import max_std_sampling\n",
    "from modAL.models import ActiveLearner, CommitteeRegressor\n",
    "\n",
    "# scipy\n",
    "from scipy import sparse\n",
    "\n",
    "# from sklearn import preprocessing\n",
    "# from sklearn.utils import shuffle\n",
    "# from modAL.models import BayesianOptimizer, \n",
    "# from modAL.acquisition import max_EI\n",
    "\n",
    "\n",
    "### Set random seed\n",
    "seed = 5\n",
    "random.seed(seed)\n",
    "np.random.seed(seed)\n",
    "\n",
    "### Suppresses Warning\n",
    "import warnings\n",
    "warnings.filterwarnings('ignore')"
   ]
  },
  {
   "cell_type": "markdown",
   "metadata": {},
   "source": [
    "# 1. Data Prep"
   ]
  },
  {
   "cell_type": "markdown",
   "metadata": {},
   "source": [
    "### 1.1. Load"
   ]
  },
  {
   "cell_type": "code",
   "execution_count": 109,
   "metadata": {
    "scrolled": true
   },
   "outputs": [
    {
     "name": "stdout",
     "output_type": "stream",
     "text": [
      "(9051, 4)\n"
     ]
    }
   ],
   "source": [
    "data = pd.read_csv('data/hw3_data.csv', delimiter=',',header=0)\n",
    "print(data.shape)"
   ]
  },
  {
   "cell_type": "markdown",
   "metadata": {},
   "source": [
    "### 1.2. Encode"
   ]
  },
  {
   "cell_type": "code",
   "execution_count": 110,
   "metadata": {},
   "outputs": [],
   "source": [
    "# create separate columns for each amino acid\n",
    "for i in range(9): # all seq are length 9\n",
    "    colname='seq'+str(i)\n",
    "    data[colname] = [x[i] for x in data['seq']]\n",
    "\n",
    "# separate features and target, remove unnecessary columns\n",
    "X_df = data.drop(['pIC50','id','allele', 'seq'],axis=1)\n",
    "y = data['pIC50']\n",
    "\n",
    "# encode features\n",
    "enc = OneHotEncoder(handle_unknown='ignore')\n",
    "X_enc = enc.fit_transform(X_df)\n",
    "\n",
    "# ?? standardize target\n",
    "\n",
    "# ?? convert to numpy array\n",
    "X_pool=sparse.csr_matrix.toarray(X_enc)\n",
    "y_pool = y.to_numpy()\n"
   ]
  },
  {
   "cell_type": "markdown",
   "metadata": {},
   "source": [
    "### 1.3. Split Data"
   ]
  },
  {
   "cell_type": "code",
   "execution_count": 111,
   "metadata": {
    "scrolled": true
   },
   "outputs": [
    {
     "name": "stdout",
     "output_type": "stream",
     "text": [
      "(6064, 180)\n",
      "(6064,)\n",
      "(2987, 180)\n",
      "(2987,)\n"
     ]
    }
   ],
   "source": [
    "X_train, X_test, y_train, y_test = train_test_split(X_pool, y_pool, test_size=0.33)\n",
    "print(X_train.shape)\n",
    "print(y_train.shape)\n",
    "print(X_test.shape)\n",
    "print(y_test.shape)\n"
   ]
  },
  {
   "cell_type": "markdown",
   "metadata": {},
   "source": [
    "# 2. Experiments with offline learners and kernels"
   ]
  },
  {
   "cell_type": "markdown",
   "metadata": {},
   "source": [
    "### 2.1 Random Forest Regressor\n",
    "Doesn't meet 0.6 threshold."
   ]
  },
  {
   "cell_type": "code",
   "execution_count": 112,
   "metadata": {},
   "outputs": [],
   "source": [
    "# %%time\n",
    "\n",
    "# # train RFC model on entire pool of data\n",
    "# rf = RandomForestRegressor(n_estimators = 20, \n",
    "#                             max_depth = 6, \n",
    "#                             random_state = seed)\n",
    "# rf.fit(X_train, y_train)\n",
    "\n",
    "# # calculate accuracy\n",
    "# print(rf.score(X_test,y_test))  # uses R^2"
   ]
  },
  {
   "cell_type": "markdown",
   "metadata": {},
   "source": [
    "### 2.2 Ridge Regression\n",
    "Barely passable to meet 0.6 threshold."
   ]
  },
  {
   "cell_type": "code",
   "execution_count": 113,
   "metadata": {},
   "outputs": [],
   "source": [
    "# %%time\n",
    "\n",
    "# clf = Ridge(alpha=1.0)\n",
    "# clf.fit(X_train, y_train)\n",
    "\n",
    "# print(clf.score(X_test,y_test))  #0.632"
   ]
  },
  {
   "cell_type": "markdown",
   "metadata": {},
   "source": [
    "### 2.3 Ridge Regression with variable alpha\n",
    "Did not dramatically improve score. (0.63 -> 0.65 maybe)"
   ]
  },
  {
   "cell_type": "code",
   "execution_count": 114,
   "metadata": {},
   "outputs": [],
   "source": [
    "# # grid search had no significant improvement \n",
    "# for i in np.linspace(0.1,5,50):\n",
    "#     clf = Ridge(alpha=i)\n",
    "#     clf.fit(X_train, y_train)\n",
    "\n",
    "#     print(np.round(i,2),np.round(clf.score(X_test,y_test),3))"
   ]
  },
  {
   "cell_type": "markdown",
   "metadata": {},
   "source": [
    "### 2.4 RBF Kernel\n",
    "Good score."
   ]
  },
  {
   "cell_type": "code",
   "execution_count": 115,
   "metadata": {},
   "outputs": [],
   "source": [
    "# %%time\n",
    "# #2 min\n",
    "\n",
    "# # checking if WhiteKernel is helping or not\n",
    "# kernel = RBF(length_scale=1.0, length_scale_bounds=(1e-2, 1e3))\n",
    "\n",
    "# gpr = GaussianProcessRegressor(kernel,random_state=seed)\n",
    "# gpr.fit(X_train, y_train)\n",
    "# print(gpr.score(X_test,y_test)) #0.6885"
   ]
  },
  {
   "cell_type": "markdown",
   "metadata": {},
   "source": [
    "### 2.5 RBF + WhiteKernel\n",
    "WhiteKernel doesn't seem to improve score. Good score."
   ]
  },
  {
   "cell_type": "code",
   "execution_count": 116,
   "metadata": {},
   "outputs": [],
   "source": [
    "# %%time\n",
    "# # 15 minutes for (5931,180)\n",
    "\n",
    "# check if WhiteKernel helps or not\n",
    "# kernel = RBF(length_scale=1.0, length_scale_bounds=(1e-2, 1e3)) \\\n",
    "#          + WhiteKernel(noise_level=1, noise_level_bounds=(1e-10, 1e+1))\n",
    "\n",
    "# gpr = GaussianProcessRegressor(kernel,random_state=seed)\n",
    "# gpr.fit(X_train, y_train)\n",
    "# print(gpr.score(X_test,y_test)) #0.686 score"
   ]
  },
  {
   "cell_type": "markdown",
   "metadata": {},
   "source": [
    "### 2.6 RBF no length_scale_bounds\n",
    "Seems to increase runtime slightly. No effect on results. Good score."
   ]
  },
  {
   "cell_type": "code",
   "execution_count": 117,
   "metadata": {},
   "outputs": [],
   "source": [
    "# %%time\n",
    "# # 2 min\n",
    "\n",
    "# # checking if bounds is helping or not\n",
    "# kernel = RBF(length_scale=1.0)\n",
    "\n",
    "# gpr = GaussianProcessRegressor(kernel,random_state=seed)\n",
    "# gpr.fit(X_train, y_train)\n",
    "# print(gpr.score(X_test,y_test))  #0.6885"
   ]
  },
  {
   "cell_type": "markdown",
   "metadata": {},
   "source": [
    "### 2.7 RationalQuadratic kernel\n",
    "Good score"
   ]
  },
  {
   "cell_type": "code",
   "execution_count": 118,
   "metadata": {},
   "outputs": [],
   "source": [
    "# %%time\n",
    "# # 3.5 min\n",
    "\n",
    "# kernel = RationalQuadratic(length_scale=1.0, alpha=1.5, length_scale_bounds=(1e-2, 1e3))\n",
    "# gpr = GaussianProcessRegressor(kernel,random_state=seed)\n",
    "# gpr.fit(X_train, y_train)\n",
    "# print(gpr.score(X_test,y_test)) #0.6888"
   ]
  },
  {
   "cell_type": "markdown",
   "metadata": {},
   "source": [
    "### 2.8 DotProduct + WhiteKernel\n",
    "Barely passable score."
   ]
  },
  {
   "cell_type": "code",
   "execution_count": 119,
   "metadata": {},
   "outputs": [],
   "source": [
    "# %%time\n",
    "# # 2 min\n",
    "\n",
    "# kernel = DotProduct() + WhiteKernel()\n",
    "# gpr = GaussianProcessRegressor(kernel,random_state=seed)\n",
    "# gpr.fit(X_train, y_train)\n",
    "# print(gpr.score(X_test,y_test)) # 0.632"
   ]
  },
  {
   "cell_type": "markdown",
   "metadata": {},
   "source": [
    "### 2.9 Default Kernel\n",
    "Bad."
   ]
  },
  {
   "cell_type": "code",
   "execution_count": 120,
   "metadata": {},
   "outputs": [],
   "source": [
    "# %%time\n",
    "# # 15 s\n",
    "\n",
    "# gpr = GaussianProcessRegressor(random_state=seed)\n",
    "# gpr.fit(X_train, y_train)\n",
    "# print(gpr.score(X_test,y_test)) # -0.806"
   ]
  },
  {
   "cell_type": "markdown",
   "metadata": {},
   "source": [
    "### 2.10 RBF + ExpSineSquared\n",
    "Idea is that sequences are \"periodic\" data, and sequences repeat in groups. If we combine RBF and periodic kernel we could better model the data. Model wouldn't run due to LinAlgError:\n",
    "\n",
    "```\n",
    "LinAlgError: (\"The kernel, RBF(length_scale=1) + ExpSineSquared(length_scale=1, periodicity=1), is not returning a positive definite matrix. Try gradually increasing the 'alpha' parameter of your GaussianProcessRegressor estimator.\", '10-th leading minor of the array is not positive definite')\n",
    "```\n",
    "\n",
    "Attempted to modify alpha to fix issue, to no avail."
   ]
  },
  {
   "cell_type": "code",
   "execution_count": 121,
   "metadata": {},
   "outputs": [],
   "source": [
    "# %%time\n",
    "\n",
    "# kernel = RBF(length_scale=1.0, length_scale_bounds=(1e-2, 1e3)) + ExpSineSquared(length_scale=1, periodicity=1)\n",
    "\n",
    "# for alpha in [1E-9,1E-8,1E-7,1E-6,1E-5,1E-4,1E-3,1E-2,1E-1,1E-0]:\n",
    "        \n",
    "# #     try:\n",
    "# #         gpr = GaussianProcessRegressor(kernel,random_state=seed, alpha=alpha)\n",
    "# #         gpr.fit(X_train, y_train)\n",
    "# #         print(alpha, gpr.score(X_test,y_test))  \n",
    "# #     except LinAlgError:\n",
    "# #         print(alpha, \"Error\")\n",
    "# #         pass\n"
   ]
  },
  {
   "cell_type": "markdown",
   "metadata": {},
   "source": [
    "# 3. Active Learning model - Grid Search v1\n",
    "Experiments to test out various combinations to meet R2 >= 0.6 threshold.\n",
    "\n",
    "All experiments in this section use the following configurations:\n",
    "- Category: Committee\n",
    "- Learner: Gaussian Process\n",
    "- query_strategy: max_std_sampling"
   ]
  },
  {
   "cell_type": "markdown",
   "metadata": {},
   "source": [
    "### Useful Functions"
   ]
  },
  {
   "cell_type": "code",
   "execution_count": 122,
   "metadata": {},
   "outputs": [],
   "source": [
    "#?? Cookbook suggests \"put a product of SE kernels on those dimensions\" (I have 180 dimensions)"
   ]
  },
  {
   "cell_type": "code",
   "execution_count": 123,
   "metadata": {},
   "outputs": [],
   "source": [
    "def get_next_sample(learner, X, y):\n",
    "    \n",
    "    # call the query strategy defined in the learner to obtain a new sample\n",
    "    query_idx, query_sample = learner.query(X)\n",
    "    \n",
    "    # modify indexing to interpret as collection of one element with d features\n",
    "    query_sample_reshaped = query_sample.reshape(1,-1)\n",
    "   \n",
    "    # obtain the query label\n",
    "    query_label = y[query_idx]\n",
    "\n",
    "    # modify indexing to interpret as 1D array of one element\n",
    "    query_label_reshaped = query_label.reshape(1,)\n",
    "    \n",
    "    return query_sample_reshaped, query_label_reshaped, query_idx"
   ]
  },
  {
   "cell_type": "code",
   "execution_count": 124,
   "metadata": {},
   "outputs": [],
   "source": [
    "def run_active_learner_regression(learner, X_pool, y_pool, X_test, y_test, n_queries):\n",
    "\n",
    "    # perform active learning\n",
    "    for q in range(n_queries):\n",
    "\n",
    "        # get sample\n",
    "        X_sample, y_sample, query_idx = get_next_sample(learner, X_pool, y_pool)\n",
    "\n",
    "        # use new sample to update the model\n",
    "        learner.teach(X_sample, y_sample)\n",
    "        \n",
    "        # remove labeled instance from pool\n",
    "        X_pool = np.delete(X_pool, query_idx, axis=0)\n",
    "        y_pool = np.delete(y_pool, query_idx)\n"
   ]
  },
  {
   "cell_type": "code",
   "execution_count": 125,
   "metadata": {},
   "outputs": [],
   "source": [
    "def write_results_to_file(filename,fields=None,rows=None):\n",
    "    \n",
    "    with open(filename,'a') as f:\n",
    "        \n",
    "        # using csv.writer method from CSV package \n",
    "        write = csv.writer(f) \n",
    "\n",
    "        if fields:\n",
    "            write.writerow(fields) \n",
    "        \n",
    "        if rows:\n",
    "            write.writerows(rows) "
   ]
  },
  {
   "cell_type": "code",
   "execution_count": 126,
   "metadata": {},
   "outputs": [],
   "source": [
    "def gaussian_process_regressor_gs(kernels, n_learners, n_initials, X_pool, y_pool, X_test, y_test, n_queries,\n",
    "                                  seed, filename, fields, row_prefix, details_func):\n",
    "    \n",
    "    # append fields as first row to file\n",
    "    write_results_to_file(filename, fields)\n",
    "    \n",
    "    # perform grid search\n",
    "    for kernel in kernels:\n",
    "        for n_learner in n_learners:\n",
    "            for n_initial in n_initials:\n",
    "                \n",
    "                # make a copy of the data for use in this test\n",
    "                X_pool_gs = copy.deepcopy(X_pool)\n",
    "                y_pool_gs = copy.deepcopy(y_pool)\n",
    "\n",
    "                # get initial training set for each learner\n",
    "                initial_idx = []\n",
    "                for i in range(n_learner):\n",
    "                    initial_idx.append(np.random.choice(len(X_pool_gs), size=n_initial, replace=False))\n",
    "                \n",
    "                # initialize learners for Committee\n",
    "                learner_list = [\n",
    "                    ActiveLearner(\n",
    "                        estimator=GaussianProcessRegressor(kernel,random_state=seed),\n",
    "                        X_training=X_pool_gs[idx],\n",
    "                        y_training=y_pool_gs[idx]\n",
    "                    ) for idx in initial_idx]\n",
    "                    \n",
    "                # create Committee\n",
    "                committee = CommitteeRegressor(\n",
    "                                learner_list=learner_list,\n",
    "                                query_strategy=max_std_sampling\n",
    "                            )\n",
    "\n",
    "                # perform active learning\n",
    "                run_active_learner_regression(committee, X_pool_gs, y_pool_gs, X_test, y_test, n_queries)\n",
    "\n",
    "                # score model\n",
    "                y_pred = committee.predict(X_test, return_std=False)\n",
    "                r2=r2_score(y_test,y_pred)\n",
    "                \n",
    "                \n",
    "                # create row for file\n",
    "                kernel_details = details_func(kernel)\n",
    "                meta = [n_learner, n_initial, n_queries, r2]\n",
    "                row = row_prefix + kernel_details + meta\n",
    "\n",
    "                # append to file\n",
    "                write_results_to_file(filename, rows=[row])\n",
    "                \n",
    "                # output to console for tracking progress\n",
    "                print('{}|{}|{}|{}|{}'.format(kernel, n_learner, n_initial,n_queries, r2))\n"
   ]
  },
  {
   "cell_type": "code",
   "execution_count": 127,
   "metadata": {},
   "outputs": [],
   "source": [
    "def matern_details(kernel):\n",
    "    return [kernel,kernel.length_scale, kernel.nu]"
   ]
  },
  {
   "cell_type": "code",
   "execution_count": 128,
   "metadata": {},
   "outputs": [],
   "source": [
    "def rbf_details(kernel):\n",
    "    return [kernel, kernel.length_scale, kernel.length_scale_bounds]"
   ]
  },
  {
   "cell_type": "code",
   "execution_count": 129,
   "metadata": {},
   "outputs": [],
   "source": [
    "def rationalquadratic_details(kernel):\n",
    "    return [kernel, kernel.length_scale, kernel.alpha]"
   ]
  },
  {
   "cell_type": "code",
   "execution_count": 130,
   "metadata": {},
   "outputs": [],
   "source": [
    "def rbf_plus_white(kernel):\n",
    "    return [kernel, kernel.k1.length_scale, kernel.k2.noise_level]"
   ]
  },
  {
   "cell_type": "markdown",
   "metadata": {},
   "source": [
    "### 3.1. Matern\n",
    "- 26 minutes with `2*2*10` Matern configurations at 100 queries - 2,5 learners\n",
    "- 3 hours 4 minutes with `2*2*10` Matern configurations at 100 queries - 10,20 learners\n"
   ]
  },
  {
   "cell_type": "code",
   "execution_count": 131,
   "metadata": {},
   "outputs": [],
   "source": [
    "# %%time\n",
    "\n",
    "# # results file\n",
    "# filename = 'data/gridsearch.' + datetime.datetime.now().strftime('%Y.%m.%d.%H.%M.%S') + '.csv'\n",
    "# row_prefix = ['Committee','Gaussian Process','max_std_sampling']\n",
    "# fields = ['category','learner','query_strategy','kernel','length_scale', 'nu', 'n_learners', 'n_initial','n_queries','r2']\n",
    "\n",
    "# # configs\n",
    "# kernels = [Matern(length_scale=i, nu=1.5) for i in np.linspace(0.5,1,2)]\n",
    "\n",
    "# n_learners = [2]\n",
    "# n_initials = [10]\n",
    "# n_queries = 1\n",
    "\n",
    "# # run process\n",
    "# gaussian_process_regressor_gs(kernels,n_learners,n_initials,X_train,y_train,X_test,y_test,n_queries,\n",
    "#                                         seed, filename, fields, row_prefix, matern_details)\n"
   ]
  },
  {
   "cell_type": "markdown",
   "metadata": {},
   "source": [
    "### 3.2. RBF"
   ]
  },
  {
   "cell_type": "code",
   "execution_count": 132,
   "metadata": {},
   "outputs": [],
   "source": [
    "# %%time\n",
    "\n",
    "# # results file\n",
    "# filename = 'data/gridsearch.' + datetime.datetime.now().strftime('%Y.%m.%d.%H.%M.%S') + '.csv'\n",
    "# row_prefix = ['Committee','Gaussian Process','max_std_sampling']\n",
    "# fields = ['category','learner','query_strategy','kernel','length_scale', 'length_scale_bounds', 'n_learners', 'n_initial','n_queries','r2']\n",
    "\n",
    "# # configs\n",
    "# kernels = [RBF(length_scale=i,length_scale_bounds=(1e-2, 1e3)) for i in np.linspace(0.38,0.418,2)]\n",
    "\n",
    "# n_learners = [2]\n",
    "# n_initials = [10]\n",
    "# n_queries = 1\n",
    "\n",
    "# # run process\n",
    "# gaussian_process_regressor_gs(kernels,n_learners,n_initials,X_train,y_train,X_test,y_test,n_queries,\n",
    "#                                         seed, filename, fields, row_prefix, rbf_details)\n"
   ]
  },
  {
   "cell_type": "markdown",
   "metadata": {},
   "source": [
    "### 3.3. RationalQuadratic"
   ]
  },
  {
   "cell_type": "code",
   "execution_count": 133,
   "metadata": {},
   "outputs": [],
   "source": [
    "# %%time\n",
    "\n",
    "# # results file\n",
    "# filename = 'data/gridsearch.' + datetime.datetime.now().strftime('%Y.%m.%d.%H.%M.%S') + '.csv'\n",
    "# row_prefix = ['Committee','Gaussian Process','max_std_sampling']\n",
    "# fields = ['category','learner','query_strategy','kernel','length_scale', 'alpha', 'n_learners', 'n_initial','n_queries','r2']\n",
    "\n",
    "# # configs\n",
    "# kernels = [RationalQuadratic(length_scale=i, alpha=j, length_scale_bounds=(1e-2, 1e3)) \n",
    "#            for i in np.linspace(0.5,10,2) \n",
    "#            for j in np.linspace(0.5,2,2)]\n",
    "\n",
    "# n_learners = [2]\n",
    "# n_initials = [10]\n",
    "# n_queries = 1\n",
    "\n",
    "# # run process\n",
    "# gaussian_process_regressor_gs(kernels,n_learners,n_initials,X_train,y_train,X_test,y_test,n_queries,\n",
    "#                                         seed, filename, fields, row_prefix, rationalquadratic_details)"
   ]
  },
  {
   "cell_type": "markdown",
   "metadata": {},
   "source": [
    "### 3.4. RBF + WhiteKernel"
   ]
  },
  {
   "cell_type": "code",
   "execution_count": 134,
   "metadata": {},
   "outputs": [],
   "source": [
    "# %%time\n",
    "\n",
    "# # results file\n",
    "# filename = 'data/gridsearch.' + datetime.datetime.now().strftime('%Y.%m.%d.%H.%M.%S') + '.csv'\n",
    "# row_prefix = ['Committee','Gaussian Process','max_std_sampling']\n",
    "# fields = ['category','learner','query_strategy','kernel','rbf_length_scale', 'white_noise_scale', 'n_learners', 'n_initial','n_queries','r2']\n",
    "\n",
    "# # configs\n",
    "# kernels = [RBF(length_scale=0.45,length_scale_bounds=(1e-2, 1e3)) \\\n",
    "#            + WhiteKernel(noise_level=i, noise_level_bounds=(1e-10, 1e+1)) \n",
    "#            for i in np.random.uniform(low=0.1,high=1.0,size=2)]\n",
    "\n",
    "\n",
    "# n_learners = [2]\n",
    "# n_initials = [10]\n",
    "# n_queries = 1\n",
    "\n",
    "# # run process\n",
    "# gaussian_process_regressor_gs(kernels,n_learners,n_initials,X_train,y_train,X_test,y_test,n_queries,\n",
    "#                                         seed, filename, fields, row_prefix, rbf_plus_white)"
   ]
  },
  {
   "cell_type": "markdown",
   "metadata": {},
   "source": [
    "### 3.5. RBF explore more length_scale values"
   ]
  },
  {
   "cell_type": "code",
   "execution_count": 135,
   "metadata": {},
   "outputs": [],
   "source": [
    "# %%time\n",
    "\n",
    "# # results file\n",
    "# filename = 'data/gridsearcha.' + datetime.datetime.now().strftime('%Y.%m.%d.%H.%M.%S') + '.csv'\n",
    "# row_prefix = ['Committee','Gaussian Process','max_std_sampling']\n",
    "# fields = ['category','learner','query_strategy','kernel','length_scale', 'length_scale_bounds', 'n_learners', 'n_initial','n_queries','r2']\n",
    "\n",
    "# # configs\n",
    "# kernels = [RBF(length_scale=i,length_scale_bounds=(1e-2, 1e3)) \n",
    "#            for i in np.random.uniform(low=0.38,high=1.0,size=2)] \\\n",
    "#         + [RBF(length_scale=i,length_scale_bounds=(1e-2, 1e3)) \n",
    "#            for i in np.random.uniform(low=1,high=10,size=2)]\n",
    "\n",
    "\n",
    "\n",
    "# n_learners = [2]\n",
    "# n_initials = [10]\n",
    "# n_queries = 1\n",
    "\n",
    "# # run process\n",
    "# gaussian_process_regressor_gs(kernels,n_learners,n_initials,X_train,y_train,X_test,y_test,n_queries,\n",
    "#                                         seed, filename, fields, row_prefix, rbf_details)\n"
   ]
  },
  {
   "cell_type": "markdown",
   "metadata": {},
   "source": [
    "### 3.6."
   ]
  },
  {
   "cell_type": "code",
   "execution_count": null,
   "metadata": {},
   "outputs": [],
   "source": []
  }
 ],
 "metadata": {
  "kernelspec": {
   "display_name": "Python 3",
   "language": "python",
   "name": "python3"
  },
  "language_info": {
   "codemirror_mode": {
    "name": "ipython",
    "version": 3
   },
   "file_extension": ".py",
   "mimetype": "text/x-python",
   "name": "python",
   "nbconvert_exporter": "python",
   "pygments_lexer": "ipython3",
   "version": "3.6.12"
  }
 },
 "nbformat": 4,
 "nbformat_minor": 2
}
