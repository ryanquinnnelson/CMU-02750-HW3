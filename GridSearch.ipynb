{
 "cells": [
  {
   "cell_type": "code",
   "execution_count": 36,
   "id": "directed-locking",
   "metadata": {},
   "outputs": [],
   "source": [
    "import numpy as np\n",
    "import pandas as pd\n",
    "from sklearn.linear_model import LinearRegression\n",
    "from sklearn.preprocessing import StandardScaler\n",
    "from sklearn.gaussian_process.kernels import Matern, RBF"
   ]
  },
  {
   "cell_type": "code",
   "execution_count": 30,
   "id": "measured-domain",
   "metadata": {
    "scrolled": true
   },
   "outputs": [
    {
     "data": {
      "text/html": [
       "<div>\n",
       "<style scoped>\n",
       "    .dataframe tbody tr th:only-of-type {\n",
       "        vertical-align: middle;\n",
       "    }\n",
       "\n",
       "    .dataframe tbody tr th {\n",
       "        vertical-align: top;\n",
       "    }\n",
       "\n",
       "    .dataframe thead th {\n",
       "        text-align: right;\n",
       "    }\n",
       "</style>\n",
       "<table border=\"1\" class=\"dataframe\">\n",
       "  <thead>\n",
       "    <tr style=\"text-align: right;\">\n",
       "      <th></th>\n",
       "      <th>category</th>\n",
       "      <th>learner</th>\n",
       "      <th>query_strategy</th>\n",
       "      <th>kernel</th>\n",
       "      <th>length_scale</th>\n",
       "      <th>nu</th>\n",
       "      <th>n_learners</th>\n",
       "      <th>n_initial</th>\n",
       "      <th>n_queries</th>\n",
       "      <th>r2</th>\n",
       "    </tr>\n",
       "  </thead>\n",
       "  <tbody>\n",
       "    <tr>\n",
       "      <th>0</th>\n",
       "      <td>Committee</td>\n",
       "      <td>Gaussian Process</td>\n",
       "      <td>max_std_sampling</td>\n",
       "      <td>Matern(length_scale=0.1, nu=1.5)</td>\n",
       "      <td>0.100000</td>\n",
       "      <td>1.5</td>\n",
       "      <td>2</td>\n",
       "      <td>10</td>\n",
       "      <td>100</td>\n",
       "      <td>-14.425781</td>\n",
       "    </tr>\n",
       "    <tr>\n",
       "      <th>1</th>\n",
       "      <td>Committee</td>\n",
       "      <td>Gaussian Process</td>\n",
       "      <td>max_std_sampling</td>\n",
       "      <td>Matern(length_scale=4.46, nu=1.5)</td>\n",
       "      <td>4.455556</td>\n",
       "      <td>1.5</td>\n",
       "      <td>2</td>\n",
       "      <td>10</td>\n",
       "      <td>100</td>\n",
       "      <td>0.266288</td>\n",
       "    </tr>\n",
       "    <tr>\n",
       "      <th>2</th>\n",
       "      <td>Committee</td>\n",
       "      <td>Gaussian Process</td>\n",
       "      <td>max_std_sampling</td>\n",
       "      <td>Matern(length_scale=1.73, nu=1.5)</td>\n",
       "      <td>1.733333</td>\n",
       "      <td>1.5</td>\n",
       "      <td>2</td>\n",
       "      <td>10</td>\n",
       "      <td>100</td>\n",
       "      <td>0.289640</td>\n",
       "    </tr>\n",
       "    <tr>\n",
       "      <th>3</th>\n",
       "      <td>Committee</td>\n",
       "      <td>Gaussian Process</td>\n",
       "      <td>max_std_sampling</td>\n",
       "      <td>Matern(length_scale=3.37, nu=1.5)</td>\n",
       "      <td>3.366667</td>\n",
       "      <td>1.5</td>\n",
       "      <td>2</td>\n",
       "      <td>10</td>\n",
       "      <td>100</td>\n",
       "      <td>0.291049</td>\n",
       "    </tr>\n",
       "    <tr>\n",
       "      <th>4</th>\n",
       "      <td>Committee</td>\n",
       "      <td>Gaussian Process</td>\n",
       "      <td>max_std_sampling</td>\n",
       "      <td>Matern(length_scale=2.28, nu=1.5)</td>\n",
       "      <td>2.277778</td>\n",
       "      <td>1.5</td>\n",
       "      <td>2</td>\n",
       "      <td>10</td>\n",
       "      <td>100</td>\n",
       "      <td>0.294963</td>\n",
       "    </tr>\n",
       "  </tbody>\n",
       "</table>\n",
       "</div>"
      ],
      "text/plain": [
       "    category           learner    query_strategy  \\\n",
       "0  Committee  Gaussian Process  max_std_sampling   \n",
       "1  Committee  Gaussian Process  max_std_sampling   \n",
       "2  Committee  Gaussian Process  max_std_sampling   \n",
       "3  Committee  Gaussian Process  max_std_sampling   \n",
       "4  Committee  Gaussian Process  max_std_sampling   \n",
       "\n",
       "                              kernel  length_scale   nu   n_learners  \\\n",
       "0   Matern(length_scale=0.1, nu=1.5)      0.100000  1.5            2   \n",
       "1  Matern(length_scale=4.46, nu=1.5)      4.455556  1.5            2   \n",
       "2  Matern(length_scale=1.73, nu=1.5)      1.733333  1.5            2   \n",
       "3  Matern(length_scale=3.37, nu=1.5)      3.366667  1.5            2   \n",
       "4  Matern(length_scale=2.28, nu=1.5)      2.277778  1.5            2   \n",
       "\n",
       "    n_initial  n_queries         r2  \n",
       "0          10        100 -14.425781  \n",
       "1          10        100   0.266288  \n",
       "2          10        100   0.289640  \n",
       "3          10        100   0.291049  \n",
       "4          10        100   0.294963  "
      ]
     },
     "execution_count": 30,
     "metadata": {},
     "output_type": "execute_result"
    }
   ],
   "source": [
    "df = pd.read_csv('data/gridsearch.one.csv', sep=',')\n",
    "df.head()"
   ]
  },
  {
   "cell_type": "code",
   "execution_count": 32,
   "id": "chronic-strand",
   "metadata": {},
   "outputs": [],
   "source": [
    "df = df[df['r2']>0]"
   ]
  },
  {
   "cell_type": "code",
   "execution_count": 33,
   "id": "cloudy-supplier",
   "metadata": {},
   "outputs": [],
   "source": [
    "\n",
    "df = df.drop(['category', 'learner', 'query_strategy','kernel'],axis=1)\n",
    "y = df['r2']\n",
    "X = df.drop(['r2'],axis=1)\n",
    "\n",
    "scaler = StandardScaler()\n",
    "X2 = scaler.fit_transform(X)"
   ]
  },
  {
   "cell_type": "code",
   "execution_count": 34,
   "id": "other-silver",
   "metadata": {},
   "outputs": [],
   "source": [
    "reg = LinearRegression().fit(X2, y)\n",
    "\n",
    "\n"
   ]
  },
  {
   "cell_type": "code",
   "execution_count": 35,
   "id": "pediatric-vancouver",
   "metadata": {},
   "outputs": [
    {
     "data": {
      "text/plain": [
       "array([-0.0017,  0.    ,  0.0418,  0.0366,  0.    ])"
      ]
     },
     "execution_count": 35,
     "metadata": {},
     "output_type": "execute_result"
    }
   ],
   "source": [
    "np.round(reg.coef_,4)\n",
    "\n"
   ]
  },
  {
   "cell_type": "code",
   "execution_count": 43,
   "id": "ruled-breeding",
   "metadata": {},
   "outputs": [],
   "source": [
    "a = RBF(length_scale=0.5)"
   ]
  },
  {
   "cell_type": "code",
   "execution_count": 44,
   "id": "metropolitan-refund",
   "metadata": {},
   "outputs": [
    {
     "data": {
      "text/plain": [
       "RBF(length_scale=0.5)"
      ]
     },
     "execution_count": 44,
     "metadata": {},
     "output_type": "execute_result"
    }
   ],
   "source": [
    "a"
   ]
  }
 ],
 "metadata": {
  "kernelspec": {
   "display_name": "Python 3",
   "language": "python",
   "name": "python3"
  },
  "language_info": {
   "codemirror_mode": {
    "name": "ipython",
    "version": 3
   },
   "file_extension": ".py",
   "mimetype": "text/x-python",
   "name": "python",
   "nbconvert_exporter": "python",
   "pygments_lexer": "ipython3",
   "version": "3.6.12"
  }
 },
 "nbformat": 4,
 "nbformat_minor": 5
}
